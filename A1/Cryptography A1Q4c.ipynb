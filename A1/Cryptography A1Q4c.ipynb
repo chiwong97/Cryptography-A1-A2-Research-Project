{
 "cells": [
  {
   "cell_type": "code",
   "execution_count": 1,
   "id": "731df6fa",
   "metadata": {},
   "outputs": [],
   "source": [
    "import numpy as np"
   ]
  },
  {
   "cell_type": "code",
   "execution_count": 4,
   "id": "87f19bcb",
   "metadata": {},
   "outputs": [],
   "source": [
    "A1 = [[23,24,40,11,4],[17,31,7,8,37],[36,11,12,14,15],[16,17,29,32,34],[33,28,18,1,9]]"
   ]
  },
  {
   "cell_type": "code",
   "execution_count": 5,
   "id": "51dbac06",
   "metadata": {},
   "outputs": [],
   "source": [
    "B1 = [40,1,34,16,27]"
   ]
  },
  {
   "cell_type": "code",
   "execution_count": 6,
   "id": "91ce0254",
   "metadata": {},
   "outputs": [
    {
     "data": {
      "text/plain": [
       "array([ 1.28294528, -2.47484957,  2.32052105, -2.6857537 ,  1.65277431])"
      ]
     },
     "execution_count": 6,
     "metadata": {},
     "output_type": "execute_result"
    }
   ],
   "source": [
    "np.linalg.solve(A1,B1)"
   ]
  },
  {
   "cell_type": "code",
   "execution_count": null,
   "id": "ff098cdc",
   "metadata": {},
   "outputs": [],
   "source": []
  }
 ],
 "metadata": {
  "kernelspec": {
   "display_name": "Python 3",
   "language": "python",
   "name": "python3"
  },
  "language_info": {
   "codemirror_mode": {
    "name": "ipython",
    "version": 3
   },
   "file_extension": ".py",
   "mimetype": "text/x-python",
   "name": "python",
   "nbconvert_exporter": "python",
   "pygments_lexer": "ipython3",
   "version": "3.8.8"
  }
 },
 "nbformat": 4,
 "nbformat_minor": 5
}
